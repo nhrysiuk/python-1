{
 "nbformat": 4,
 "nbformat_minor": 0,
 "metadata": {
  "colab": {
   "provenance": []
  },
  "kernelspec": {
   "name": "python3",
   "display_name": "Python 3"
  },
  "language_info": {
   "name": "python"
  }
 },
 "cells": [
  {
   "cell_type": "markdown",
   "source": [
    "# I. Змінні та памʼять."
   ],
   "metadata": {
    "id": "p9wwt0LZzNvn"
   }
  },
  {
   "cell_type": "markdown",
   "source": [
    "1. Створити змінні, що посилаються на два цілих числа, що однакові за значенням, де значення належить проміжку від -5 до 256. Перевірте, чи будуть ці змінні рівні тільки за значенням або ж ще будуть посилатися на один і той самий обʼєкт в памʼяті? Наведіть код та дайте текстову відповідь нижче."
   ],
   "metadata": {
    "id": "HTJrrm95xSV9"
   }
  },
  {
   "cell_type": "code",
   "execution_count": null,
   "metadata": {
    "id": "TATni2vzayjG"
   },
   "outputs": [],
   "source": [
    "num1 = 42\n",
    "num2 = 42\n",
    "\n",
    "values_equal = num1 == num2\n",
    "references_equal = num1 is num2\n",
    "\n",
    "print(\"Змінні рівні за значенням:\", values_equal)\n",
    "print(\"Змінні рівні за посиланням у пам'яті:\", references_equal)"
   ]
  },
  {
   "cell_type": "markdown",
   "source": [
    "цілі числа від -5 до 256 кешуються і використовують однаковий обʼєкт у памʼяті, тому відповідь: так, будуть посилатися на один і той самий обʼєкт у памʼяті"
   ],
   "metadata": {
    "id": "zfRG_o3WbRdg"
   }
  },
  {
   "cell_type": "markdown",
   "source": [
    "2. За допомогою якої функції можна перевірити належність змінної до вказаного типу даних (напр. чи змінна True посилається на значення булевого та цілочисленого типу)?"
   ],
   "metadata": {
    "id": "ISORzt6M3vAt"
   }
  },
  {
   "cell_type": "code",
   "source": [
    "isinstance()"
   ],
   "metadata": {
    "id": "9vL9CFaMbfyo"
   },
   "execution_count": null,
   "outputs": []
  },
  {
   "cell_type": "markdown",
   "source": [
    "# II. Цілі числа та числа з рухомою комою"
   ],
   "metadata": {
    "id": "tRxugKAxwYLw"
   }
  },
  {
   "cell_type": "markdown",
   "source": [
    "3. Створити дві змінні, що посилаються на будь-які ціле число та число з рухомою комою та продемонструвати такі арифметичні операції: додавання, віднімання, ділення, множення, ділення без залишку, ділення по модулю, приведення до ступеню. Всі результати операцій вивести на екран."
   ],
   "metadata": {
    "id": "NLHkgd5Gybc8"
   }
  },
  {
   "cell_type": "code",
   "source": [
    "integer_variable = 5\n",
    "float_variable = 2.5\n",
    "\n",
    "# Додавання\n",
    "addition_result = integer_variable + float_variable\n",
    "print(f\"Додавання: {addition_result}\")\n",
    "\n",
    "# Віднімання\n",
    "subtraction_result = integer_variable - float_variable\n",
    "print(f\"Віднімання: {subtraction_result}\")\n",
    "\n",
    "# Ділення\n",
    "division_result = integer_variable / float_variable\n",
    "print(f\"Ділення: {division_result}\")\n",
    "\n",
    "# Множення\n",
    "multiplication_result = integer_variable * float_variable\n",
    "print(f\"Множення: {multiplication_result}\")\n",
    "\n",
    "# Ділення без залишку\n",
    "division_without_rest_result = integer_variable // float_variable\n",
    "print(f\"Ділення без залишку: {division_without_rest_result}\")\n",
    "\n",
    "# Ділення по модулю\n",
    "module_result = integer_variable % float_variable\n",
    "print(f\"Ділення по модулю: {module_result}\")\n",
    "\n",
    "# Приведення до ступеню\n",
    "exponentiation_result = integer_variable ** float_variable\n",
    "print(f\"Приведення до ступеню: {exponentiation_result}\")"
   ],
   "metadata": {
    "id": "nb8u_3pjb2cA"
   },
   "execution_count": null,
   "outputs": []
  },
  {
   "cell_type": "markdown",
   "source": [
    "4. Використовуючи змінні з вправи 3, продемонструйте механізм явного перетворення типів, де числа з рухомою комою перетворюються на цілі числа. Також визначте змінну, що посилається на значення булевого типу і спробуйте явно привести її до цілого числа."
   ],
   "metadata": {
    "id": "1kBClKgPzZnC"
   }
  },
  {
   "cell_type": "code",
   "source": [
    "integer_variable = 5\n",
    "float_variable = 2.5\n",
    "boolean_variable = True\n",
    "\n",
    "converted_integer = int(float_variable)\n",
    "print(f\"Після явного перетворення на ціле число: {converted_integer}\")\n",
    "\n",
    "boolean_to_integer = int(boolean_variable)\n",
    "print(f\"Після приведення булевої змінної до цілого числа: {boolean_to_integer}\")"
   ],
   "metadata": {
    "id": "TbqJbkeUcKsD"
   },
   "execution_count": null,
   "outputs": []
  },
  {
   "cell_type": "markdown",
   "source": [
    "# IІІ. Рядки (String)."
   ],
   "metadata": {
    "id": "EVJ7AflwxrZi"
   }
  },
  {
   "cell_type": "markdown",
   "source": [
    "5. Створити пустий рядок двома різними способами."
   ],
   "metadata": {
    "id": "_s5ECzz9zE61"
   }
  },
  {
   "cell_type": "code",
   "source": [
    "empty_string1 = \"\"\n",
    "empty_string2 = str()"
   ],
   "metadata": {
    "id": "fkZJHu9Scvc-"
   },
   "execution_count": null,
   "outputs": []
  },
  {
   "cell_type": "markdown",
   "source": [
    "6. Створити рядок з апострофом. Зробити його сирим. Вивести обидва рядка на екран."
   ],
   "metadata": {
    "id": "4Bdn9J3MzLf_"
   }
  },
  {
   "cell_type": "code",
   "source": [
    "string_with_apostrophe = 'Це рядок з апострофом (\\').'\n",
    "raw_string_with_apostrophe = r'Це сирий рядок з апострофом (\\').'\n",
    "\n",
    "print(string_with_apostrophe)\n",
    "print(raw_string_with_apostrophe)"
   ],
   "metadata": {
    "id": "ivji_hsmc0GH"
   },
   "execution_count": null,
   "outputs": []
  },
  {
   "cell_type": "markdown",
   "source": [
    "7. Створити змінну, що буде посилатися на Ваше прізвище латинкою. Створити форматований рядок, який буде мати вигляд \"My surname is ______\", де на місці нижніх підкреслень буде Ваше прізвище зі змінної."
   ],
   "metadata": {
    "id": "bg_d8wM4z8dS"
   }
  },
  {
   "cell_type": "code",
   "source": [
    "my_surname = \"Hrysiuk\"\n",
    "formatted_string = f\"My surname is {my_surname}\""
   ],
   "metadata": {
    "id": "kuxFgpWndACq",
    "is_executing": true
   },
   "execution_count": null,
   "outputs": []
  },
  {
   "cell_type": "markdown",
   "source": [
    "8. Маючи рядок \"My dog is crazy.\" перетворити його на список [\"my\", \"dog\", \"is\", \"crazy\"]"
   ],
   "metadata": {
    "id": "1Nc6RqvQ0hxU"
   }
  },
  {
   "cell_type": "code",
   "source": [
    "original_string = \"My dog is crazy.\"\n",
    "word_list = original_string.split()\n",
    "\n",
    "print(word_list)"
   ],
   "metadata": {
    "id": "w1Ya4RqedUhw"
   },
   "execution_count": null,
   "outputs": []
  },
  {
   "cell_type": "markdown",
   "source": [
    "# IV. Робота зі списками."
   ],
   "metadata": {
    "id": "GYVqN9uP1D4n"
   }
  },
  {
   "cell_type": "markdown",
   "source": [
    "9. Створити список двома різними за синтаксисом способами. За допомогою вбудованої функції обчисліть довжину одного з них."
   ],
   "metadata": {
    "id": "7-DeDunw2sO-"
   }
  },
  {
   "cell_type": "code",
   "source": [
    "list_method1 = [1, 2, 3, 4, 5]\n",
    "length_method1 = len(list_method1)\n",
    "\n",
    "\n",
    "list_method2 = list(\"abcdef\")\n",
    "length_method2 = len(list_method2)"
   ],
   "metadata": {
    "id": "zxg06Uuxdyoh"
   },
   "execution_count": null,
   "outputs": []
  },
  {
   "cell_type": "markdown",
   "source": [
    "10. Створіть два списка та за допомогою спеціального методу додайте другий з них в якості останнього елемента першого."
   ],
   "metadata": {
    "id": "8vmGUTjL22gI"
   }
  },
  {
   "cell_type": "code",
   "source": [
    "list1 = [1, 2, 3]\n",
    "list2 = [4, 5, 6]\n",
    "\n",
    "list1.extend(list2)"
   ],
   "metadata": {
    "id": "uHtjWYw7d7hm"
   },
   "execution_count": null,
   "outputs": []
  },
  {
   "cell_type": "markdown",
   "source": [
    "11. Створіть список, де елементами цього списку також є списки. Отримай перший елемент з останнього рядка та виведи значення на екран."
   ],
   "metadata": {
    "id": "JC3BkD-67_--"
   }
  },
  {
   "cell_type": "code",
   "source": [
    "nested_list = [[1, 2, 3], [4, 5, 6], [7, 8, 9]]\n",
    "last_row = nested_list[-1]\n",
    "first_element_last_row = last_row[0]\n",
    "\n",
    "print(\"Перший елемент з останнього рядка:\")\n",
    "print(first_element_last_row)"
   ],
   "metadata": {
    "id": "Kz2jZHsGeLlz"
   },
   "execution_count": null,
   "outputs": []
  },
  {
   "cell_type": "markdown",
   "source": [
    "12. Створіть список з десяти елементів різного типу. Отримайте всі елементи, окрім двох перших та двох останніх та збережіть їх в новій змінній."
   ],
   "metadata": {
    "id": "JA47PKTv8zFK"
   }
  },
  {
   "cell_type": "code",
   "source": [
    "mixed_list = [1, \"two\", 3.0, True, [5, 6], 'seven', (8, 9), {'key': 10}, None, 11]\n",
    "\n",
    "new_list = mixed_list[2:-2]"
   ],
   "metadata": {
    "id": "_rHdUR-ueP4-"
   },
   "execution_count": null,
   "outputs": []
  },
  {
   "cell_type": "markdown",
   "source": [
    "# V. Робота з кортежами."
   ],
   "metadata": {
    "id": "pCjR1dJb1Qbi"
   }
  },
  {
   "cell_type": "markdown",
   "source": [
    "14. Створити кортеж з один елементом."
   ],
   "metadata": {
    "id": "fAZCxAX06R_k"
   }
  },
  {
   "cell_type": "code",
   "source": [
    "single_element_tuple = (1,)"
   ],
   "metadata": {
    "id": "H7d82WkQev3e"
   },
   "execution_count": null,
   "outputs": []
  },
  {
   "cell_type": "markdown",
   "source": [
    "15. Порівняйте список та кортеж. Назвіть схожості та відмінності, випадки використання."
   ],
   "metadata": {
    "id": "8LCtYcmI6w1M"
   }
  },
  {
   "cell_type": "markdown",
   "source": [
    "схожості:\n",
    "# індексація, перебір циклом, вбудовані функції (довжина, максимум, мінімум)\n",
    "\n",
    "відмінності:\n",
    "# список є мутабельним\n",
    "# синтаксис: списки [], кортежі ()\n",
    "\n",
    "використання:\n",
    "# списки потрібні для динамічної зміни даних, кортежі – там, де необхідна сталість даних"
   ],
   "metadata": {
    "id": "fUsN1Hnue0C6"
   }
  },
  {
   "cell_type": "markdown",
   "source": [
    "16. Створіть кортеж з 11ти елементів чисел з рухомою комою та отримайте кожен парний за індексом елемент в зворотньому порядку. Наприклад, маючи (1.2, 2.3, 3.3, 4.3, 5.3, 6.3, 7.3, 8.3, 9.3, 0.3), отримати (0.3, 8.3, 6.3, 4.3, 2.3). Результат збережіть в нову змінну та виведіть на екран."
   ],
   "metadata": {
    "id": "m0xrwFijAmDD"
   }
  },
  {
   "cell_type": "code",
   "source": [
    "my_tuple = (1.2, 2.3, 3.3, 4.3, 5.3, 6.3, 7.3, 8.3, 9.3, 0.3)\n",
    "result_tuple = my_tuple[::-2]\n",
    "\n",
    "print(\"Результат:\")\n",
    "print(result_tuple)"
   ],
   "metadata": {
    "id": "p-5DAH6XfAGA",
    "is_executing": true
   },
   "execution_count": null,
   "outputs": []
  },
  {
   "cell_type": "markdown",
   "source": [
    "# VI. Множини (Set)."
   ],
   "metadata": {
    "id": "rW_I9dt3x6cW"
   }
  },
  {
   "cell_type": "markdown",
   "source": [
    "17. Створити множину без елементів. Після цого за допомогою методу додайте кілька різних елементів до множини. Чи множини є змінним типом даних?"
   ],
   "metadata": {
    "id": "zNjRLHLw1Bgg"
   }
  },
  {
   "cell_type": "code",
   "source": [
    "my_set = set()\n",
    "\n",
    "my_set.add(1)\n",
    "my_set.add(\"hello\")\n",
    "my_set.add(3.14)"
   ],
   "metadata": {
    "id": "KOv7zc2Kfo4N"
   },
   "execution_count": null,
   "outputs": []
  },
  {
   "cell_type": "markdown",
   "source": [
    "так, є."
   ],
   "metadata": {
    "id": "vxS6dVYiftZQ"
   }
  },
  {
   "cell_type": "markdown",
   "source": [
    "18. Створити множину, маючи список my_list = [1, 1, 2, 67, 67, 8, 9]. Пояснити, чому \"зникли\" деякі елементи."
   ],
   "metadata": {
    "id": "gHpT0Zw_1HEF"
   }
  },
  {
   "cell_type": "code",
   "source": [
    "my_list = [1, 1, 2, 67, 67, 8, 9]\n",
    "my_set = set(my_list)"
   ],
   "metadata": {
    "id": "qCN4uvJ_fxmu"
   },
   "execution_count": null,
   "outputs": []
  },
  {
   "cell_type": "markdown",
   "source": [
    "через видалення дублікатів."
   ],
   "metadata": {
    "id": "tFNc1e20fyny"
   }
  },
  {
   "cell_type": "markdown",
   "source": [
    "19. Створіть дві множини. Продемонстуйте над ними операції: обʼєднання, різниці, пересічі та симетричної різниці. Використовуйте методи, що не змінюють множини, а створюють нові."
   ],
   "metadata": {
    "id": "SRMkGizS1UwY"
   }
  },
  {
   "cell_type": "code",
   "source": [
    "set1 = {1, 2, 3, 4, 5}\n",
    "set2 = {4, 5, 6, 7, 8}\n",
    "\n",
    "union_result = set1.union(set2)\n",
    "\n",
    "difference_result = set1.difference(set2)\n",
    "\n",
    "intersection_result = set1.intersection(set2)\n",
    "\n",
    "symmetric_difference_result = set1.symmetric_difference(set2)"
   ],
   "metadata": {
    "id": "h0T-VuDnf3Ri"
   },
   "execution_count": null,
   "outputs": []
  },
  {
   "cell_type": "markdown",
   "source": [
    "# VII. Словники (Dictionary)."
   ],
   "metadata": {
    "id": "kWc8gkzTx7Ea"
   }
  },
  {
   "cell_type": "markdown",
   "source": [
    "20. Створіть пустий словник. До нього додайте чотири пари елементів такі, щоб їхні ключі були різних типів. Чи може список бути ключем? Чому?"
   ],
   "metadata": {
    "id": "i5FLwj-B2ybQ"
   }
  },
  {
   "cell_type": "code",
   "source": [
    "my_dict = {}\n",
    "\n",
    "my_dict[5] = \"five\"\n",
    "my_dict[\"string_key\"] = \"hello\"\n",
    "my_dict[(1, 2)] = \"tuple_key\"\n",
    "my_dict[3.14] = \"float_key\"\n"
   ],
   "metadata": {
    "id": "hxgv3BzrgLAV"
   },
   "execution_count": null,
   "outputs": []
  },
  {
   "cell_type": "markdown",
   "source": [
    "список не може бути ключем, оскільки ключі повинні бути immutable"
   ],
   "metadata": {
    "id": "zwa7UVN-gR3m"
   }
  },
  {
   "cell_type": "markdown",
   "source": [
    "21. Створіть словник, де значенням в одній з пар теж буде словник, який теж має вкладений словник. Виведіть на екран значення, що міститься в словнику, що знаходиться на найнижчому рівні ієрархії вкладеності (найбільш внутрішній)."
   ],
   "metadata": {
    "id": "WM_pMlJsgoNf"
   }
  },
  {
   "cell_type": "code",
   "source": [
    "my_dict = {\n",
    "    \"key1\": \"value1\",\n",
    "    \"key2\": {\n",
    "        \"nested_key1\": \"nested_value1\",\n",
    "        \"nested_key2\": {\n",
    "            \"innermost_key\": \"innermost_value\"\n",
    "        }\n",
    "    },\n",
    "    \"key3\": \"value3\"\n",
    "}\n",
    "\n",
    "innermost_value = my_dict[\"key2\"][\"nested_key2\"][\"innermost_key\"]\n",
    "print(\"Значення на найнижчому рівні вкладеності:\", innermost_value)"
   ],
   "metadata": {
    "id": "60dlP7IHhAy4"
   },
   "execution_count": null,
   "outputs": []
  },
  {
   "cell_type": "markdown",
   "source": [
    "# Вітаю! Ви велика(ий) молодець, що впоралась(вся). Похваліть себе та побалуйте чимось приємним. Я Вами пишаюся."
   ],
   "metadata": {
    "id": "xOZP0hkx6cCr"
   }
  }
 ]
}
